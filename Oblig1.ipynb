{
 "cells": [
  {
   "cell_type": "code",
   "id": "initial_id",
   "metadata": {
    "collapsed": true,
    "ExecuteTime": {
     "end_time": "2024-09-23T18:36:57.437872Z",
     "start_time": "2024-09-23T18:36:52.882695Z"
    }
   },
   "source": [
    "from xgboost import XGBClassifier\n",
    "from sklearn.compose import ColumnTransformer\n",
    "from sklearn.pipeline import Pipeline\n",
    "from sklearn.preprocessing import StandardScaler\n",
    "from sklearn.model_selection import train_test_split\n",
    "from sklearn.metrics import balanced_accuracy_score\n",
    "import pandas as pd\n",
    "\n",
    "\n",
    "train_data = pd.read_csv('train.csv')\n",
    "test_data = pd.read_csv('test.csv')\n",
    "\n",
    "X = train_data.drop(columns=['Target'])\n",
    "y = train_data['Target']\n",
    "\n",
    "X_train, X_test, y_train, y_test = train_test_split(X, y, test_size=0.25, random_state=42)\n",
    "\n",
    "preprocess = ColumnTransformer(\n",
    "    transformers=[\n",
    "        ('numerical', StandardScaler(), X.columns)\n",
    "    ])\n",
    "\n",
    "xgb = XGBClassifier( \n",
    "    scale_pos_weight=len(y_train[y_train == 0]) / len(y_train[y_train == 1]), \n",
    "    random_state=100,\n",
    "    n_estimators=850,\n",
    "    subsample=0.9,\n",
    "    min_child_weight=100,\n",
    "    max_depth=4,\n",
    "    learning_rate=0.01,\n",
    "    gamma=0.2,\n",
    "    colsample_bytree=0.7,\n",
    ")\n",
    "\n",
    "model = Pipeline([\n",
    "    ('preprocessor', preprocess),\n",
    "    ('classifier', xgb)\n",
    "]) \n",
    "\n",
    "model.fit(X_train, y_train)\n",
    "\n",
    "y_test_pred = model.predict(X_test)\n",
    "\n",
    "print(balanced_accuracy_score(y_test, y_test_pred))\n",
    "\n",
    "data_test_pred = model.predict(test_data)\n",
    "\n",
    "submission = pd.DataFrame({\n",
    "    'Id': test_data['Id'],\n",
    "    'Target': data_test_pred\n",
    "})\n",
    "\n",
    "submission.to_csv('submission.csv', index=False)\n",
    "\n"
   ],
   "outputs": [
    {
     "name": "stdout",
     "output_type": "stream",
     "text": [
      "0.7514127288349339\n"
     ]
    }
   ],
   "execution_count": 2
  },
  {
   "metadata": {
    "ExecuteTime": {
     "end_time": "2024-09-22T14:18:25.054285Z",
     "start_time": "2024-09-22T14:18:25.037270Z"
    }
   },
   "cell_type": "code",
   "source": "",
   "id": "9373dbea51e54751",
   "outputs": [],
   "execution_count": null
  },
  {
   "metadata": {},
   "cell_type": "code",
   "outputs": [],
   "execution_count": null,
   "source": "",
   "id": "2e965a7efa2dcd28"
  }
 ],
 "metadata": {
  "kernelspec": {
   "display_name": "Python 3",
   "language": "python",
   "name": "python3"
  },
  "language_info": {
   "codemirror_mode": {
    "name": "ipython",
    "version": 2
   },
   "file_extension": ".py",
   "mimetype": "text/x-python",
   "name": "python",
   "nbconvert_exporter": "python",
   "pygments_lexer": "ipython2",
   "version": "2.7.6"
  }
 },
 "nbformat": 4,
 "nbformat_minor": 5
}
